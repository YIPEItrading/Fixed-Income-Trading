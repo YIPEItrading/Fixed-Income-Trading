{
 "cells": [
  {
   "cell_type": "code",
   "execution_count": 1,
   "metadata": {},
   "outputs": [],
   "source": [
    "import numpy as np\n",
    "import pandas as pd\n",
    "import datetime as dt\n",
    "import sympy \n",
    "import math\n",
    "from sympy import *\n",
    "import copy\n",
    "import warnings\n",
    "warnings.filterwarnings(\"ignore\")"
   ]
  },
  {
   "cell_type": "code",
   "execution_count": 2,
   "metadata": {},
   "outputs": [],
   "source": [
    "bond_data = pd.read_excel(\"T_20210129.xlsx\")"
   ]
  },
  {
   "cell_type": "code",
   "execution_count": 3,
   "metadata": {},
   "outputs": [],
   "source": [
    "bond_data[\"today\"] = dt.datetime.strptime(\"2021-01-29\",\"%Y-%m-%d\")"
   ]
  },
  {
   "cell_type": "code",
   "execution_count": 4,
   "metadata": {},
   "outputs": [],
   "source": [
    "bond_data[\"date_diff\"] = bond_data[\"Maturity\"] - bond_data[\"today\"]\n",
    "bond_data[\"date_diff\"] = bond_data[\"date_diff\"].apply(lambda x:x.days)"
   ]
  },
  {
   "cell_type": "code",
   "execution_count": 5,
   "metadata": {},
   "outputs": [],
   "source": [
    "def solve(number):\n",
    "\n",
    "    y = sympy.symbols(\"y\")\n",
    "    total_sum = 0\n",
    "    n = bond_data.loc[number,\"date_diff\"]//180\n",
    "    to_next_coupon = bond_data.loc[number,\"date_diff\"]%180\n",
    "    for each in range(n):\n",
    "        total_sum += bond_data.loc[number,\"Coupon\"]/2*pow((1+y),-(each + to_next_coupon/180))\n",
    "    total_sum += (100+bond_data.loc[number,\"Coupon\"]/2)*pow((1+y),-(n+to_next_coupon/180))\n",
    "    # using\n",
    "    f = bond_data.loc[number,\"Ask Price\"] - total_sum\n",
    "    t = 0.00000001\n",
    "    f1 = f.subs(y, t) # 表示t赋值给x\n",
    "    while abs(f1) > 0.00000001:  #我们设定的精度\n",
    "        dify = diff(f, y) # f对x求导\n",
    "        dify = dify.subs(y, t)\n",
    "        t = t - f1/dify\n",
    "        f1 = f.subs(y, t)\n",
    "    \n",
    "    #print('y=', t)\n",
    "    return t\n",
    "    \n"
   ]
  },
  {
   "cell_type": "code",
   "execution_count": 6,
   "metadata": {},
   "outputs": [],
   "source": [
    "for i in range(len(bond_data)):\n",
    "    bond_data.loc[i,\"half_YTM\"] = solve(i)\n",
    "    bond_data.loc[i,\"YTM\"] = 2 * solve(i)"
   ]
  },
  {
   "cell_type": "code",
   "execution_count": 7,
   "metadata": {},
   "outputs": [],
   "source": [
    "def solve_duration(number):\n",
    "    y = bond_data.loc[number,\"half_YTM\"]\n",
    "    n = bond_data.loc[number,\"date_diff\"]//180\n",
    "    total_sum = 0\n",
    "    to_next_coupon = bond_data.loc[number,\"date_diff\"]%180\n",
    "    for each in range(n):\n",
    "        total_sum += (each/2+to_next_coupon/180) * bond_data.loc[number,\"Coupon\"]/2*pow((1+y),-(each + to_next_coupon/180))/ bond_data.loc[number,\"Ask Price\"]\n",
    "    total_sum += ((100+bond_data.loc[number,\"Coupon\"]/2)*pow((1+y),-(n+to_next_coupon/180)))*(bond_data.loc[number,\"date_diff\"]/365) / bond_data.loc[number,\"Ask Price\"]\n",
    "    return total_sum\n",
    "    print(total_sum)\n"
   ]
  },
  {
   "cell_type": "code",
   "execution_count": 8,
   "metadata": {
    "scrolled": true
   },
   "outputs": [],
   "source": [
    "for i in range(len(bond_data)):\n",
    "    \n",
    "    bond_data.loc[i,\"Duration\"] = solve_duration(i)"
   ]
  },
  {
   "cell_type": "code",
   "execution_count": 9,
   "metadata": {},
   "outputs": [],
   "source": [
    "def solve_PVBP(number):\n",
    "    total_sum = 0\n",
    "    y = bond_data.loc[number,\"half_YTM\"] + 0.00005\n",
    "    n = bond_data.loc[number,\"date_diff\"]//180\n",
    "    to_next_coupon = bond_data.loc[number,\"date_diff\"]%180\n",
    "    for each in range(n):\n",
    "        total_sum += bond_data.loc[number,\"Coupon\"]/2*pow((1+y),-(each + to_next_coupon/180))\n",
    "    total_sum += (100+bond_data.loc[number,\"Coupon\"]/2)*pow((1+y),-(n+to_next_coupon/180))\n",
    "    PVBP = total_sum * bond_data.loc[number,\"Duration\"]* 0.0001 / (1+bond_data.loc[number,\"half_YTM\"])\n",
    "    return [PVBP,total_sum]"
   ]
  },
  {
   "cell_type": "code",
   "execution_count": 10,
   "metadata": {},
   "outputs": [],
   "source": [
    "def compute_MD(number):\n",
    "    #result = solve_PVBP(number)[0] * 10000 / solve_PVBP(number)[1]\n",
    "    result = bond_data.loc[i,\"Duration\"]/(1+bond_data.loc[i,\"half_YTM\"])\n",
    "    return result"
   ]
  },
  {
   "cell_type": "code",
   "execution_count": 11,
   "metadata": {},
   "outputs": [],
   "source": [
    "for i in range(len(bond_data)):\n",
    "    bond_data.loc[i,\"MD\"] = compute_MD(i)"
   ]
  },
  {
   "cell_type": "code",
   "execution_count": null,
   "metadata": {},
   "outputs": [],
   "source": []
  },
  {
   "cell_type": "code",
   "execution_count": 12,
   "metadata": {},
   "outputs": [],
   "source": [
    "def compute_convexity(number):\n",
    "    y = bond_data.loc[number,\"half_YTM\"]\n",
    "    n = bond_data.loc[number,\"date_diff\"]//180\n",
    "    total_sum = 0\n",
    "    to_next_coupon = bond_data.loc[number,\"date_diff\"]%(180)\n",
    "    for each in range(n):\n",
    "            total_sum += bond_data.loc[number,\"Coupon\"]/2*math.pow((1+y),-(each + to_next_coupon/180))*((each + to_next_coupon/180)+math.pow((each + to_next_coupon/180),2))\n",
    "    total_sum += (100+bond_data.loc[number,\"Coupon\"]/2)*math.pow((1+y),-(n + to_next_coupon/180))*((n + to_next_coupon/180)+math.pow((n + to_next_coupon/180),2))\n",
    "    total_sum = total_sum * 1/(bond_data.loc[number,\"Ask Price\"]*(math.pow((1+y),2)))\n",
    "        #return total_sum\n",
    "    #print(total_sum/4)\n",
    "    return total_sum/4\n",
    "\n",
    "    \n",
    "    \n",
    "    "
   ]
  },
  {
   "cell_type": "code",
   "execution_count": 13,
   "metadata": {},
   "outputs": [],
   "source": [
    "for i in range(len(bond_data)):\n",
    "    bond_data.loc[i,\"Convexity\"] = compute_convexity(i)"
   ]
  },
  {
   "cell_type": "markdown",
   "metadata": {},
   "source": [
    "# For Each of these Bonds calculate Bond YTM, Duration, Modified Duration, Convexity"
   ]
  },
  {
   "cell_type": "code",
   "execution_count": 14,
   "metadata": {},
   "outputs": [
    {
     "data": {
      "text/html": [
       "<div>\n",
       "<style scoped>\n",
       "    .dataframe tbody tr th:only-of-type {\n",
       "        vertical-align: middle;\n",
       "    }\n",
       "\n",
       "    .dataframe tbody tr th {\n",
       "        vertical-align: top;\n",
       "    }\n",
       "\n",
       "    .dataframe thead th {\n",
       "        text-align: right;\n",
       "    }\n",
       "</style>\n",
       "<table border=\"1\" class=\"dataframe\">\n",
       "  <thead>\n",
       "    <tr style=\"text-align: right;\">\n",
       "      <th></th>\n",
       "      <th>Name</th>\n",
       "      <th>Ticker</th>\n",
       "      <th>Coupon</th>\n",
       "      <th>Maturity</th>\n",
       "      <th>Maturity Type</th>\n",
       "      <th>Country</th>\n",
       "      <th>Currency</th>\n",
       "      <th>Identifier</th>\n",
       "      <th>Bloomberg Composite Rating</th>\n",
       "      <th>Ask Price</th>\n",
       "      <th>Source</th>\n",
       "      <th>today</th>\n",
       "      <th>date_diff</th>\n",
       "      <th>half_YTM</th>\n",
       "      <th>YTM</th>\n",
       "      <th>Duration</th>\n",
       "      <th>MD</th>\n",
       "      <th>Convexity</th>\n",
       "    </tr>\n",
       "  </thead>\n",
       "  <tbody>\n",
       "    <tr>\n",
       "      <th>0</th>\n",
       "      <td>United States Treasury Note/Bond</td>\n",
       "      <td>T</td>\n",
       "      <td>1.375</td>\n",
       "      <td>2021-01-31</td>\n",
       "      <td>NORMAL</td>\n",
       "      <td>US</td>\n",
       "      <td>USD</td>\n",
       "      <td>912828N89</td>\n",
       "      <td>NR</td>\n",
       "      <td>100.019531</td>\n",
       "      <td>BGN</td>\n",
       "      <td>2021-01-29</td>\n",
       "      <td>2</td>\n",
       "      <td>0.820400062152708</td>\n",
       "      <td>1.64080012430542</td>\n",
       "      <td>0.00547945205482591</td>\n",
       "      <td>0.00301002629517942</td>\n",
       "      <td>0.000848</td>\n",
       "    </tr>\n",
       "    <tr>\n",
       "      <th>1</th>\n",
       "      <td>United States Treasury Note/Bond</td>\n",
       "      <td>T</td>\n",
       "      <td>2.125</td>\n",
       "      <td>2021-01-31</td>\n",
       "      <td>NORMAL</td>\n",
       "      <td>US</td>\n",
       "      <td>USD</td>\n",
       "      <td>912828B58</td>\n",
       "      <td>NR</td>\n",
       "      <td>100.023438</td>\n",
       "      <td>BGN</td>\n",
       "      <td>2021-01-29</td>\n",
       "      <td>2</td>\n",
       "      <td>1.53479899749063</td>\n",
       "      <td>3.06959799498127</td>\n",
       "      <td>0.00547945205479452</td>\n",
       "      <td>0.00216169095072982</td>\n",
       "      <td>0.000437</td>\n",
       "    </tr>\n",
       "    <tr>\n",
       "      <th>2</th>\n",
       "      <td>United States Treasury Note/Bond</td>\n",
       "      <td>T</td>\n",
       "      <td>2.500</td>\n",
       "      <td>2021-01-31</td>\n",
       "      <td>NORMAL</td>\n",
       "      <td>US</td>\n",
       "      <td>USD</td>\n",
       "      <td>9128285X4</td>\n",
       "      <td>NR</td>\n",
       "      <td>100.031250</td>\n",
       "      <td>BGN</td>\n",
       "      <td>2021-01-29</td>\n",
       "      <td>2</td>\n",
       "      <td>1.97399507936561</td>\n",
       "      <td>3.94799015873123</td>\n",
       "      <td>0.00547945205479454</td>\n",
       "      <td>0.00184245498347071</td>\n",
       "      <td>0.000318</td>\n",
       "    </tr>\n",
       "    <tr>\n",
       "      <th>3</th>\n",
       "      <td>United States Treasury Note/Bond</td>\n",
       "      <td>T</td>\n",
       "      <td>2.250</td>\n",
       "      <td>2021-02-15</td>\n",
       "      <td>NORMAL</td>\n",
       "      <td>US</td>\n",
       "      <td>USD</td>\n",
       "      <td>9128283X6</td>\n",
       "      <td>NR</td>\n",
       "      <td>100.097656</td>\n",
       "      <td>BGN</td>\n",
       "      <td>2021-01-29</td>\n",
       "      <td>17</td>\n",
       "      <td>0.114178720654214</td>\n",
       "      <td>0.228357441308429</td>\n",
       "      <td>0.0465753424666503</td>\n",
       "      <td>0.0418023981281051</td>\n",
       "      <td>0.020816</td>\n",
       "    </tr>\n",
       "    <tr>\n",
       "      <th>4</th>\n",
       "      <td>United States Treasury Note/Bond</td>\n",
       "      <td>T</td>\n",
       "      <td>3.625</td>\n",
       "      <td>2021-02-15</td>\n",
       "      <td>NORMAL</td>\n",
       "      <td>US</td>\n",
       "      <td>USD</td>\n",
       "      <td>912828PX2</td>\n",
       "      <td>NR</td>\n",
       "      <td>100.152344</td>\n",
       "      <td>BGN</td>\n",
       "      <td>2021-01-29</td>\n",
       "      <td>17</td>\n",
       "      <td>0.190144885863182</td>\n",
       "      <td>0.380289771726365</td>\n",
       "      <td>0.0465753424657534</td>\n",
       "      <td>0.0391341785516925</td>\n",
       "      <td>0.018244</td>\n",
       "    </tr>\n",
       "  </tbody>\n",
       "</table>\n",
       "</div>"
      ],
      "text/plain": [
       "                               Name Ticker  Coupon   Maturity Maturity Type  \\\n",
       "0  United States Treasury Note/Bond      T   1.375 2021-01-31        NORMAL   \n",
       "1  United States Treasury Note/Bond      T   2.125 2021-01-31        NORMAL   \n",
       "2  United States Treasury Note/Bond      T   2.500 2021-01-31        NORMAL   \n",
       "3  United States Treasury Note/Bond      T   2.250 2021-02-15        NORMAL   \n",
       "4  United States Treasury Note/Bond      T   3.625 2021-02-15        NORMAL   \n",
       "\n",
       "  Country Currency Identifier Bloomberg Composite Rating   Ask Price Source  \\\n",
       "0      US      USD  912828N89                         NR  100.019531    BGN   \n",
       "1      US      USD  912828B58                         NR  100.023438    BGN   \n",
       "2      US      USD  9128285X4                         NR  100.031250    BGN   \n",
       "3      US      USD  9128283X6                         NR  100.097656    BGN   \n",
       "4      US      USD  912828PX2                         NR  100.152344    BGN   \n",
       "\n",
       "       today  date_diff           half_YTM                YTM  \\\n",
       "0 2021-01-29          2  0.820400062152708   1.64080012430542   \n",
       "1 2021-01-29          2   1.53479899749063   3.06959799498127   \n",
       "2 2021-01-29          2   1.97399507936561   3.94799015873123   \n",
       "3 2021-01-29         17  0.114178720654214  0.228357441308429   \n",
       "4 2021-01-29         17  0.190144885863182  0.380289771726365   \n",
       "\n",
       "              Duration                   MD  Convexity  \n",
       "0  0.00547945205482591  0.00301002629517942   0.000848  \n",
       "1  0.00547945205479452  0.00216169095072982   0.000437  \n",
       "2  0.00547945205479454  0.00184245498347071   0.000318  \n",
       "3   0.0465753424666503   0.0418023981281051   0.020816  \n",
       "4   0.0465753424657534   0.0391341785516925   0.018244  "
      ]
     },
     "execution_count": 14,
     "metadata": {},
     "output_type": "execute_result"
    }
   ],
   "source": [
    "bond_data.head()"
   ]
  },
  {
   "cell_type": "code",
   "execution_count": 15,
   "metadata": {},
   "outputs": [],
   "source": [
    "def solve_appr_conv(number):\n",
    "    total_sum_plus = 0\n",
    "    total_sum_minus = 0\n",
    "    y_plus = bond_data.loc[number,\"half_YTM\"] + 0.00005\n",
    "    y_minus = bond_data.loc[number,\"half_YTM\"] - 0.00005\n",
    "    n = bond_data.loc[number,\"date_diff\"]//180\n",
    "    to_next_coupon = bond_data.loc[number,\"date_diff\"]%180\n",
    "    for each in range(n):\n",
    "        total_sum_plus += bond_data.loc[number,\"Coupon\"]/2*pow((1+y_plus),-(each + to_next_coupon/180))\n",
    "    total_sum_plus += (100+bond_data.loc[number,\"Coupon\"]/2)*pow((1+y_plus),-(n+to_next_coupon/180))\n",
    "    for each in range(n):\n",
    "        total_sum_minus += bond_data.loc[number,\"Coupon\"]/2*pow((1+y_minus),-(each + to_next_coupon/180))\n",
    "    total_sum_minus += (100+bond_data.loc[number,\"Coupon\"]/2)*pow((1+y_minus),-(n+to_next_coupon/180))\n",
    "    a = (total_sum_minus+total_sum_plus - 2*bond_data.loc[number,\"Ask Price\"])/(0.0001**2*bond_data.loc[number,\"Ask Price\"])\n",
    "    PVBP = total_sum * bond_data.loc[number,\"Duration\"]* 0.0001 / (1+bond_data.loc[number,\"half_YTM\"])\n",
    "    return a\n"
   ]
  },
  {
   "cell_type": "code",
   "execution_count": 16,
   "metadata": {
    "scrolled": true
   },
   "outputs": [],
   "source": [
    "y = sympy.symbols(\"y\")\n",
    "total_sum = 0\n",
    "for number in (bond_data[bond_data[\"date_diff\"]>365].index):\n",
    "    #print(number)\n",
    "    n = bond_data.loc[number,\"date_diff\"]//180\n",
    "    to_next_coupon = bond_data.loc[number,\"date_diff\"]%180\n",
    "    for each in range(n):\n",
    "        total_sum += bond_data.loc[number,\"Coupon\"]/2*pow((1+y),-(each + to_next_coupon/180))\n",
    "    total_sum += (100+bond_data.loc[number,\"Coupon\"]/2)*pow((1+y),-(n+to_next_coupon/180))\n",
    "    # using\n",
    "\n",
    "\n",
    "    "
   ]
  },
  {
   "cell_type": "code",
   "execution_count": 17,
   "metadata": {},
   "outputs": [],
   "source": [
    "f = bond_data[bond_data[\"date_diff\"]>365][\"Ask Price\"].sum() - total_sum\n",
    "t = 0.00001\n",
    "f1 = f.subs(y, t) # 表示t赋值给x\n",
    "while abs(f1) > 0.00001:  #我们设定的精度\n",
    "    dify = diff(f, y) # f对x求导\n",
    "    dify = dify.subs(y, t)\n",
    "    t = t - f1/dify\n",
    "    f1 = f.subs(y, t)\n",
    "Portfolio_YTM = t    \n"
   ]
  },
  {
   "cell_type": "code",
   "execution_count": 18,
   "metadata": {
    "scrolled": true
   },
   "outputs": [
    {
     "name": "stdout",
     "output_type": "stream",
     "text": [
      "Por0 value included accrued interest is 29556.05034852222\n"
     ]
    }
   ],
   "source": [
    "test_bond = bond_data[bond_data[\"date_diff\"]>365]\n",
    "Portfolio_price = test_bond[\"Ask Price\"].sum()\n",
    "Portfolio_accrued_price = Portfolio_price + np.nansum(test_bond[\"Coupon\"]/2*((180 - bond_data[\"date_diff\"]%180)/180))\n",
    "print(\"Por0 value included accrued interest is\",Portfolio_accrued_price)"
   ]
  },
  {
   "cell_type": "code",
   "execution_count": 19,
   "metadata": {},
   "outputs": [],
   "source": [
    "y = Portfolio_YTM + 0.00005\n",
    "total_sum = 0\n",
    "for number in (bond_data[bond_data[\"date_diff\"]>365].index):\n",
    "    n = bond_data.loc[number,\"date_diff\"]//180\n",
    "    to_next_coupon = bond_data.loc[number,\"date_diff\"]%180\n",
    "    for each in range(n):\n",
    "        total_sum += bond_data.loc[number,\"Coupon\"]/2*pow((1+y),-(each + to_next_coupon/180))\n",
    "    total_sum += (100+bond_data.loc[number,\"Coupon\"]/2)*pow((1+y),-(n+to_next_coupon/180))\n",
    "\n",
    "new_Portfolio_price = total_sum\n",
    "PVBP = Portfolio_price - new_Portfolio_price"
   ]
  },
  {
   "cell_type": "code",
   "execution_count": null,
   "metadata": {},
   "outputs": [],
   "source": []
  },
  {
   "cell_type": "code",
   "execution_count": 20,
   "metadata": {},
   "outputs": [],
   "source": [
    "Appr_duration = PVBP * (1+Portfolio_YTM) / new_Portfolio_price * 10000\n"
   ]
  },
  {
   "cell_type": "code",
   "execution_count": 21,
   "metadata": {
    "scrolled": true
   },
   "outputs": [],
   "source": [
    "portfolio_duration = sum(test_bond[\"Ask Price\"]/test_bond[\"Ask Price\"].sum() * test_bond[\"Duration\"])\n"
   ]
  },
  {
   "cell_type": "code",
   "execution_count": 22,
   "metadata": {},
   "outputs": [],
   "source": [
    "Modified_duration = portfolio_duration / (1 + Portfolio_YTM)\n"
   ]
  },
  {
   "cell_type": "code",
   "execution_count": null,
   "metadata": {},
   "outputs": [],
   "source": []
  },
  {
   "cell_type": "code",
   "execution_count": 23,
   "metadata": {},
   "outputs": [],
   "source": [
    "YTM_plus = Portfolio_YTM + 0.00005\n",
    "YTM_minus = Portfolio_YTM - 0.00005\n",
    "price_plus = 0\n",
    "price_minus = 0\n",
    "for number in (bond_data[bond_data[\"date_diff\"]>365].index):\n",
    "    n = bond_data.loc[number,\"date_diff\"]//180\n",
    "    to_next_coupon = bond_data.loc[number,\"date_diff\"]%180\n",
    "    for each in range(n):\n",
    "        price_plus += bond_data.loc[number,\"Coupon\"]/2*pow((1+YTM_plus),-(each + to_next_coupon/180))\n",
    "    price_plus += (100+bond_data.loc[number,\"Coupon\"]/2)*pow((1+YTM_plus),-(n+to_next_coupon/180))\n",
    "\n",
    "for number in (bond_data[bond_data[\"date_diff\"]>365].index):\n",
    "    n = bond_data.loc[number,\"date_diff\"]//180\n",
    "    to_next_coupon = bond_data.loc[number,\"date_diff\"]%180\n",
    "    for each in range(n):\n",
    "        price_minus += bond_data.loc[number,\"Coupon\"]/2*pow((1+YTM_minus),-(each + to_next_coupon/180))\n",
    "    price_minus += (100+bond_data.loc[number,\"Coupon\"]/2)*pow((1+YTM_minus),-(n+to_next_coupon/180))\n",
    "    "
   ]
  },
  {
   "cell_type": "code",
   "execution_count": 24,
   "metadata": {},
   "outputs": [],
   "source": [
    "Appr_convexity = (price_plus + price_minus - 2 * Portfolio_price) / (pow(0.0001,2) * Portfolio_price)\n",
    "\n"
   ]
  },
  {
   "cell_type": "code",
   "execution_count": 25,
   "metadata": {},
   "outputs": [],
   "source": [
    "y = Portfolio_YTM\n",
    "total_sum = 0\n",
    "for number in (bond_data[bond_data[\"date_diff\"]>365].index):\n",
    "    n = bond_data.loc[number,\"date_diff\"]//180\n",
    "    to_next_coupon = bond_data.loc[number,\"date_diff\"]%180\n",
    "    for each in range(n):\n",
    "        total_sum += bond_data.loc[number,\"Coupon\"]*math.pow((1+y),-(each + to_next_coupon/180))*((each + to_next_coupon/180)+math.pow((each + to_next_coupon/180),2))\n",
    "    total_sum += (100+bond_data.loc[number,\"Coupon\"])*math.pow((1+y),-(n + to_next_coupon/180))*((n + to_next_coupon/180)+math.pow((n + to_next_coupon/180),2))\n",
    "total_sum = total_sum * 1/(Portfolio_price*(math.pow((1+y),2)))/4\n",
    "\n"
   ]
  },
  {
   "cell_type": "markdown",
   "metadata": {},
   "source": [
    "# Assume you are holding a portfolio (por0) which consist of one UNIT of each of the above bonds with more than 1 year to maturity. For por0 Calculate :\n",
    "Dollar Value of the portfolio,Portfolio YTM,Actual and Approximate Duration,Actual Modified Duration,Actual and Approximate Convexity"
   ]
  },
  {
   "cell_type": "code",
   "execution_count": 26,
   "metadata": {},
   "outputs": [
    {
     "name": "stdout",
     "output_type": "stream",
     "text": [
      "Dollar value of the portfolio is 21.4099322571274\n",
      "Portfolio annualized YTM is 0.0128947057410030\n",
      "Actual portfolio duration is 6.96683410980636\n",
      "Approximate portfolio duration is 7.33585454427263\n",
      "Actual modified duration is 6.92220421658039\n",
      "Approximate portfolio convexity is 114.437490309645\n",
      "Actual portfolio convexity is 136.1938295217289\n"
     ]
    }
   ],
   "source": [
    "print(\"Dollar value of the portfolio is\",PVBP)\n",
    "print('Portfolio annualized YTM is', 2*t)\n",
    "print(\"Actual portfolio duration is\",portfolio_duration)\n",
    "print(\"Approximate portfolio duration is\",Appr_duration)\n",
    "print(\"Actual modified duration is\",Modified_duration)\n",
    "print(\"Approximate portfolio convexity is\",Appr_convexity)\n",
    "print(\"Actual portfolio convexity is\",total_sum)"
   ]
  },
  {
   "cell_type": "markdown",
   "metadata": {},
   "source": [
    "# Assume You are a Long Duration Fixed Income Portfolio Manager and you have $100,000,000 to invest in the above Government Bonds with the following Investment Mandate\n",
    "\n"
   ]
  },
  {
   "cell_type": "markdown",
   "metadata": {},
   "source": [
    "You can only invest in Long term maturity bonds (bonds with maturity greater than 17 years)\n"
   ]
  },
  {
   "cell_type": "markdown",
   "metadata": {},
   "source": [
    "Maximum dollar exposure to each particular bond should be less than 10% of the overall value of your portfolio.\n"
   ]
  },
  {
   "cell_type": "markdown",
   "metadata": {},
   "source": [
    "You can only hold long exposure."
   ]
  },
  {
   "cell_type": "code",
   "execution_count": 27,
   "metadata": {},
   "outputs": [],
   "source": [
    "fund = 100000000\n",
    "bond_bank = bond_data[bond_data[\"date_diff\"]>365*17]\n",
    "#bond_bank[\"YTM\"] = bond_bank[\"YTM\"].apply(lambda x:float(x))\n",
    "bond_bank = bond_bank.sort_values(by='Duration',ascending = False)\n"
   ]
  },
  {
   "cell_type": "code",
   "execution_count": 28,
   "metadata": {},
   "outputs": [],
   "source": [
    "# Since I believe long term rates are going to decline in the next year. \n",
    "# The price of bond with higher convexity would increase higher than others.\n",
    "# Then bonds with higher convexity will be beneficial in this situation\n",
    "# So I add bonds with Convexity from higher to lower, to satisfy the exposure requirement\n",
    "# And invest each of them with equal weight"
   ]
  },
  {
   "cell_type": "code",
   "execution_count": 29,
   "metadata": {
    "scrolled": false
   },
   "outputs": [
    {
     "data": {
      "text/html": [
       "<div>\n",
       "<style scoped>\n",
       "    .dataframe tbody tr th:only-of-type {\n",
       "        vertical-align: middle;\n",
       "    }\n",
       "\n",
       "    .dataframe tbody tr th {\n",
       "        vertical-align: top;\n",
       "    }\n",
       "\n",
       "    .dataframe thead th {\n",
       "        text-align: right;\n",
       "    }\n",
       "</style>\n",
       "<table border=\"1\" class=\"dataframe\">\n",
       "  <thead>\n",
       "    <tr style=\"text-align: right;\">\n",
       "      <th></th>\n",
       "      <th>Name</th>\n",
       "      <th>Ticker</th>\n",
       "      <th>Coupon</th>\n",
       "      <th>Maturity</th>\n",
       "      <th>Maturity Type</th>\n",
       "      <th>Country</th>\n",
       "      <th>Currency</th>\n",
       "      <th>Identifier</th>\n",
       "      <th>Bloomberg Composite Rating</th>\n",
       "      <th>Ask Price</th>\n",
       "      <th>Source</th>\n",
       "      <th>today</th>\n",
       "      <th>date_diff</th>\n",
       "      <th>half_YTM</th>\n",
       "      <th>YTM</th>\n",
       "      <th>Duration</th>\n",
       "      <th>MD</th>\n",
       "      <th>Convexity</th>\n",
       "    </tr>\n",
       "  </thead>\n",
       "  <tbody>\n",
       "    <tr>\n",
       "      <th>317</th>\n",
       "      <td>United States Treasury Note/Bond</td>\n",
       "      <td>T</td>\n",
       "      <td>1.375</td>\n",
       "      <td>2050-08-15</td>\n",
       "      <td>NORMAL</td>\n",
       "      <td>US</td>\n",
       "      <td>USD</td>\n",
       "      <td>912810SP4</td>\n",
       "      <td>NR</td>\n",
       "      <td>89.593750</td>\n",
       "      <td>BGN</td>\n",
       "      <td>2021-01-29</td>\n",
       "      <td>10790</td>\n",
       "      <td>0.00914613767301540</td>\n",
       "      <td>0.0182922753460308</td>\n",
       "      <td>24.1783524006396</td>\n",
       "      <td>23.9592180934194</td>\n",
       "      <td>674.694688</td>\n",
       "    </tr>\n",
       "    <tr>\n",
       "      <th>316</th>\n",
       "      <td>United States Treasury Note/Bond</td>\n",
       "      <td>T</td>\n",
       "      <td>1.250</td>\n",
       "      <td>2050-05-15</td>\n",
       "      <td>NORMAL</td>\n",
       "      <td>US</td>\n",
       "      <td>USD</td>\n",
       "      <td>912810SN9</td>\n",
       "      <td>NR</td>\n",
       "      <td>86.765625</td>\n",
       "      <td>BGN</td>\n",
       "      <td>2021-01-29</td>\n",
       "      <td>10698</td>\n",
       "      <td>0.00923068921338427</td>\n",
       "      <td>0.0184613784267685</td>\n",
       "      <td>24.1550127324112</td>\n",
       "      <td>23.9340846355337</td>\n",
       "      <td>675.163444</td>\n",
       "    </tr>\n",
       "    <tr>\n",
       "      <th>318</th>\n",
       "      <td>United States Treasury Note/Bond</td>\n",
       "      <td>T</td>\n",
       "      <td>1.625</td>\n",
       "      <td>2050-11-15</td>\n",
       "      <td>NORMAL</td>\n",
       "      <td>US</td>\n",
       "      <td>USD</td>\n",
       "      <td>912810SS8</td>\n",
       "      <td>NR</td>\n",
       "      <td>95.328125</td>\n",
       "      <td>BGN</td>\n",
       "      <td>2021-01-29</td>\n",
       "      <td>10882</td>\n",
       "      <td>0.00923248340768087</td>\n",
       "      <td>0.0184649668153617</td>\n",
       "      <td>23.5296455566811</td>\n",
       "      <td>23.3143957844411</td>\n",
       "      <td>655.918167</td>\n",
       "    </tr>\n",
       "    <tr>\n",
       "      <th>315</th>\n",
       "      <td>United States Treasury Note/Bond</td>\n",
       "      <td>T</td>\n",
       "      <td>2.000</td>\n",
       "      <td>2050-02-15</td>\n",
       "      <td>NORMAL</td>\n",
       "      <td>US</td>\n",
       "      <td>USD</td>\n",
       "      <td>912810SL3</td>\n",
       "      <td>NR</td>\n",
       "      <td>104.250000</td>\n",
       "      <td>BGN</td>\n",
       "      <td>2021-01-29</td>\n",
       "      <td>10609</td>\n",
       "      <td>0.00907904557557365</td>\n",
       "      <td>0.0181580911511473</td>\n",
       "      <td>22.5372380757951</td>\n",
       "      <td>22.3344624730959</td>\n",
       "      <td>602.130239</td>\n",
       "    </tr>\n",
       "    <tr>\n",
       "      <th>313</th>\n",
       "      <td>United States Treasury Note/Bond</td>\n",
       "      <td>T</td>\n",
       "      <td>2.250</td>\n",
       "      <td>2049-08-15</td>\n",
       "      <td>NORMAL</td>\n",
       "      <td>US</td>\n",
       "      <td>USD</td>\n",
       "      <td>912810SJ8</td>\n",
       "      <td>NR</td>\n",
       "      <td>109.968750</td>\n",
       "      <td>BGN</td>\n",
       "      <td>2021-01-29</td>\n",
       "      <td>10425</td>\n",
       "      <td>0.00905155475663040</td>\n",
       "      <td>0.0181031095132608</td>\n",
       "      <td>21.8109013527185</td>\n",
       "      <td>21.6152497361534</td>\n",
       "      <td>568.210361</td>\n",
       "    </tr>\n",
       "    <tr>\n",
       "      <th>314</th>\n",
       "      <td>United States Treasury Note/Bond</td>\n",
       "      <td>T</td>\n",
       "      <td>2.375</td>\n",
       "      <td>2049-11-15</td>\n",
       "      <td>NORMAL</td>\n",
       "      <td>US</td>\n",
       "      <td>USD</td>\n",
       "      <td>912810SK5</td>\n",
       "      <td>NR</td>\n",
       "      <td>112.890625</td>\n",
       "      <td>BGN</td>\n",
       "      <td>2021-01-29</td>\n",
       "      <td>10517</td>\n",
       "      <td>0.00916606221887355</td>\n",
       "      <td>0.0183321244377471</td>\n",
       "      <td>21.5092167349888</td>\n",
       "      <td>21.3138526356070</td>\n",
       "      <td>564.525208</td>\n",
       "    </tr>\n",
       "    <tr>\n",
       "      <th>312</th>\n",
       "      <td>United States Treasury Note/Bond</td>\n",
       "      <td>T</td>\n",
       "      <td>2.875</td>\n",
       "      <td>2049-05-15</td>\n",
       "      <td>NORMAL</td>\n",
       "      <td>US</td>\n",
       "      <td>USD</td>\n",
       "      <td>912810SH2</td>\n",
       "      <td>NR</td>\n",
       "      <td>124.203125</td>\n",
       "      <td>BGN</td>\n",
       "      <td>2021-01-29</td>\n",
       "      <td>10333</td>\n",
       "      <td>0.00913058748533187</td>\n",
       "      <td>0.0182611749706637</td>\n",
       "      <td>20.5136713317881</td>\n",
       "      <td>20.3280641635355</td>\n",
       "      <td>521.251444</td>\n",
       "    </tr>\n",
       "    <tr>\n",
       "      <th>311</th>\n",
       "      <td>United States Treasury Note/Bond</td>\n",
       "      <td>T</td>\n",
       "      <td>3.000</td>\n",
       "      <td>2049-02-15</td>\n",
       "      <td>NORMAL</td>\n",
       "      <td>US</td>\n",
       "      <td>USD</td>\n",
       "      <td>912810SF6</td>\n",
       "      <td>NR</td>\n",
       "      <td>126.906250</td>\n",
       "      <td>BGN</td>\n",
       "      <td>2021-01-29</td>\n",
       "      <td>10244</td>\n",
       "      <td>0.00897209985377410</td>\n",
       "      <td>0.0179441997075482</td>\n",
       "      <td>20.5068519570256</td>\n",
       "      <td>20.3244985267656</td>\n",
       "      <td>512.292870</td>\n",
       "    </tr>\n",
       "    <tr>\n",
       "      <th>309</th>\n",
       "      <td>United States Treasury Note/Bond</td>\n",
       "      <td>T</td>\n",
       "      <td>3.000</td>\n",
       "      <td>2048-08-15</td>\n",
       "      <td>NORMAL</td>\n",
       "      <td>US</td>\n",
       "      <td>USD</td>\n",
       "      <td>912810SD1</td>\n",
       "      <td>NR</td>\n",
       "      <td>126.593750</td>\n",
       "      <td>BGN</td>\n",
       "      <td>2021-01-29</td>\n",
       "      <td>10060</td>\n",
       "      <td>0.00896717235104877</td>\n",
       "      <td>0.0179343447020975</td>\n",
       "      <td>20.2267509621796</td>\n",
       "      <td>20.0469861819668</td>\n",
       "      <td>497.623767</td>\n",
       "    </tr>\n",
       "    <tr>\n",
       "      <th>301</th>\n",
       "      <td>United States Treasury Note/Bond</td>\n",
       "      <td>T</td>\n",
       "      <td>2.250</td>\n",
       "      <td>2046-08-15</td>\n",
       "      <td>NORMAL</td>\n",
       "      <td>US</td>\n",
       "      <td>USD</td>\n",
       "      <td>912810RT7</td>\n",
       "      <td>NR</td>\n",
       "      <td>109.875000</td>\n",
       "      <td>BGN</td>\n",
       "      <td>2021-01-29</td>\n",
       "      <td>9329</td>\n",
       "      <td>0.00890935812872161</td>\n",
       "      <td>0.0178187162574432</td>\n",
       "      <td>20.0351939424221</td>\n",
       "      <td>19.8582695075625</td>\n",
       "      <td>474.154414</td>\n",
       "    </tr>\n",
       "    <tr>\n",
       "      <th>305</th>\n",
       "      <td>United States Treasury Note/Bond</td>\n",
       "      <td>T</td>\n",
       "      <td>2.750</td>\n",
       "      <td>2047-08-15</td>\n",
       "      <td>NORMAL</td>\n",
       "      <td>US</td>\n",
       "      <td>USD</td>\n",
       "      <td>912810RY6</td>\n",
       "      <td>NR</td>\n",
       "      <td>120.703125</td>\n",
       "      <td>BGN</td>\n",
       "      <td>2021-01-29</td>\n",
       "      <td>9694</td>\n",
       "      <td>0.00893644695000709</td>\n",
       "      <td>0.0178728939000142</td>\n",
       "      <td>19.9654939616678</td>\n",
       "      <td>19.7886537075978</td>\n",
       "      <td>479.953458</td>\n",
       "    </tr>\n",
       "    <tr>\n",
       "      <th>307</th>\n",
       "      <td>United States Treasury Note/Bond</td>\n",
       "      <td>T</td>\n",
       "      <td>3.000</td>\n",
       "      <td>2048-02-15</td>\n",
       "      <td>NORMAL</td>\n",
       "      <td>US</td>\n",
       "      <td>USD</td>\n",
       "      <td>912810SA7</td>\n",
       "      <td>NR</td>\n",
       "      <td>126.390625</td>\n",
       "      <td>BGN</td>\n",
       "      <td>2021-01-29</td>\n",
       "      <td>9878</td>\n",
       "      <td>0.00893696269533941</td>\n",
       "      <td>0.0178739253906788</td>\n",
       "      <td>19.9567478642347</td>\n",
       "      <td>19.7799749658501</td>\n",
       "      <td>483.454879</td>\n",
       "    </tr>\n",
       "  </tbody>\n",
       "</table>\n",
       "</div>"
      ],
      "text/plain": [
       "                                 Name Ticker  Coupon   Maturity Maturity Type  \\\n",
       "317  United States Treasury Note/Bond      T   1.375 2050-08-15        NORMAL   \n",
       "316  United States Treasury Note/Bond      T   1.250 2050-05-15        NORMAL   \n",
       "318  United States Treasury Note/Bond      T   1.625 2050-11-15        NORMAL   \n",
       "315  United States Treasury Note/Bond      T   2.000 2050-02-15        NORMAL   \n",
       "313  United States Treasury Note/Bond      T   2.250 2049-08-15        NORMAL   \n",
       "314  United States Treasury Note/Bond      T   2.375 2049-11-15        NORMAL   \n",
       "312  United States Treasury Note/Bond      T   2.875 2049-05-15        NORMAL   \n",
       "311  United States Treasury Note/Bond      T   3.000 2049-02-15        NORMAL   \n",
       "309  United States Treasury Note/Bond      T   3.000 2048-08-15        NORMAL   \n",
       "301  United States Treasury Note/Bond      T   2.250 2046-08-15        NORMAL   \n",
       "305  United States Treasury Note/Bond      T   2.750 2047-08-15        NORMAL   \n",
       "307  United States Treasury Note/Bond      T   3.000 2048-02-15        NORMAL   \n",
       "\n",
       "    Country Currency Identifier Bloomberg Composite Rating   Ask Price Source  \\\n",
       "317      US      USD  912810SP4                         NR   89.593750    BGN   \n",
       "316      US      USD  912810SN9                         NR   86.765625    BGN   \n",
       "318      US      USD  912810SS8                         NR   95.328125    BGN   \n",
       "315      US      USD  912810SL3                         NR  104.250000    BGN   \n",
       "313      US      USD  912810SJ8                         NR  109.968750    BGN   \n",
       "314      US      USD  912810SK5                         NR  112.890625    BGN   \n",
       "312      US      USD  912810SH2                         NR  124.203125    BGN   \n",
       "311      US      USD  912810SF6                         NR  126.906250    BGN   \n",
       "309      US      USD  912810SD1                         NR  126.593750    BGN   \n",
       "301      US      USD  912810RT7                         NR  109.875000    BGN   \n",
       "305      US      USD  912810RY6                         NR  120.703125    BGN   \n",
       "307      US      USD  912810SA7                         NR  126.390625    BGN   \n",
       "\n",
       "         today  date_diff             half_YTM                 YTM  \\\n",
       "317 2021-01-29      10790  0.00914613767301540  0.0182922753460308   \n",
       "316 2021-01-29      10698  0.00923068921338427  0.0184613784267685   \n",
       "318 2021-01-29      10882  0.00923248340768087  0.0184649668153617   \n",
       "315 2021-01-29      10609  0.00907904557557365  0.0181580911511473   \n",
       "313 2021-01-29      10425  0.00905155475663040  0.0181031095132608   \n",
       "314 2021-01-29      10517  0.00916606221887355  0.0183321244377471   \n",
       "312 2021-01-29      10333  0.00913058748533187  0.0182611749706637   \n",
       "311 2021-01-29      10244  0.00897209985377410  0.0179441997075482   \n",
       "309 2021-01-29      10060  0.00896717235104877  0.0179343447020975   \n",
       "301 2021-01-29       9329  0.00890935812872161  0.0178187162574432   \n",
       "305 2021-01-29       9694  0.00893644695000709  0.0178728939000142   \n",
       "307 2021-01-29       9878  0.00893696269533941  0.0178739253906788   \n",
       "\n",
       "             Duration                MD   Convexity  \n",
       "317  24.1783524006396  23.9592180934194  674.694688  \n",
       "316  24.1550127324112  23.9340846355337  675.163444  \n",
       "318  23.5296455566811  23.3143957844411  655.918167  \n",
       "315  22.5372380757951  22.3344624730959  602.130239  \n",
       "313  21.8109013527185  21.6152497361534  568.210361  \n",
       "314  21.5092167349888  21.3138526356070  564.525208  \n",
       "312  20.5136713317881  20.3280641635355  521.251444  \n",
       "311  20.5068519570256  20.3244985267656  512.292870  \n",
       "309  20.2267509621796  20.0469861819668  497.623767  \n",
       "301  20.0351939424221  19.8582695075625  474.154414  \n",
       "305  19.9654939616678  19.7886537075978  479.953458  \n",
       "307  19.9567478642347  19.7799749658501  483.454879  "
      ]
     },
     "execution_count": 29,
     "metadata": {},
     "output_type": "execute_result"
    }
   ],
   "source": [
    "por1 = bond_bank.iloc[[0,1],:]\n",
    "for i,index in enumerate(bond_bank.index):\n",
    "    if i >= 2:\n",
    "        price_list = list(por1[\"Ask Price\"])\n",
    "        price_list.append(bond_bank.loc[index,\"Ask Price\"])\n",
    "        total_value = sum(price_list)\n",
    "        por1 = por1.append(bond_bank.loc[index,:])\n",
    "        for price in (price_list):\n",
    "            mark = 0\n",
    "            if price/total_value > 0.1:     \n",
    "                break\n",
    "            else:\n",
    "                mark = 1\n",
    "\n",
    "        if mark == 1:\n",
    "            break\n",
    "por1   "
   ]
  },
  {
   "cell_type": "code",
   "execution_count": 30,
   "metadata": {},
   "outputs": [
    {
     "data": {
      "text/plain": [
       "317    0.067188\n",
       "316    0.065068\n",
       "318    0.071489\n",
       "315    0.078180\n",
       "313    0.082468\n",
       "314    0.084659\n",
       "312    0.093143\n",
       "311    0.095170\n",
       "309    0.094936\n",
       "301    0.082398\n",
       "305    0.090518\n",
       "307    0.094783\n",
       "Name: Ask Price, dtype: float64"
      ]
     },
     "execution_count": 30,
     "metadata": {},
     "output_type": "execute_result"
    }
   ],
   "source": [
    "por1[\"Ask Price\"]/por1[\"Ask Price\"].sum()"
   ]
  },
  {
   "cell_type": "code",
   "execution_count": 31,
   "metadata": {},
   "outputs": [],
   "source": [
    "# I will invest each bond equally in por1 portfolio"
   ]
  },
  {
   "cell_type": "code",
   "execution_count": 32,
   "metadata": {},
   "outputs": [
    {
     "name": "stdout",
     "output_type": "stream",
     "text": [
      "por1 price with arrued interest is 1336.8680555555557\n"
     ]
    }
   ],
   "source": [
    "por1_accrued_price = por1[\"Ask Price\"].sum() + np.nansum(por1[\"Coupon\"]/2*((180 - por1[\"date_diff\"]%180)/180))\n",
    "print(\"por1 price with arrued interest is\",por1_accrued_price)"
   ]
  },
  {
   "cell_type": "code",
   "execution_count": 33,
   "metadata": {},
   "outputs": [],
   "source": [
    "# number of por1 I will invest\n",
    "number_invest = floor(fund / (por1_accrued_price))\n"
   ]
  },
  {
   "cell_type": "code",
   "execution_count": 34,
   "metadata": {},
   "outputs": [],
   "source": [
    "money_left = fund - por1_accrued_price*number_invest\n"
   ]
  },
  {
   "cell_type": "code",
   "execution_count": 35,
   "metadata": {
    "scrolled": true
   },
   "outputs": [],
   "source": [
    "y = sympy.symbols(\"y\")\n",
    "total_sum = 0\n",
    "for number in (por1.index):\n",
    "    n = por1.loc[number,\"date_diff\"]//180\n",
    "    to_next_coupon = por1.loc[number,\"date_diff\"]%180\n",
    "    for each in range(n):\n",
    "        total_sum += por1.loc[number,\"Coupon\"]/2*pow((1+y),-(each + to_next_coupon/180))*number_invest\n",
    "    total_sum += (100+por1.loc[number,\"Coupon\"]/2)*pow((1+y),-(n+to_next_coupon/180))*number_invest\n",
    "    # using\n",
    "f = (por1[\"Ask Price\"].sum()*number_invest) - total_sum\n",
    "t = 0.0001\n",
    "f1 = f.subs(y, t) # 表示t赋值给x\n",
    "while abs(f1) > 0.0001:  #我们设定的精度\n",
    "    #print(f1)\n",
    "    dify = diff(f, y) # f对x求导\n",
    "    dify = dify.subs(y, t)\n",
    "    t = t - f1/dify\n",
    "    f1 = f.subs(y, t)\n",
    "Por1_YTM = t    \n",
    "\n"
   ]
  },
  {
   "cell_type": "code",
   "execution_count": 36,
   "metadata": {},
   "outputs": [
    {
     "name": "stdout",
     "output_type": "stream",
     "text": [
      "new Por1 price is 99533144.9848743\n"
     ]
    }
   ],
   "source": [
    "y = Por1_YTM + 0.00005\n",
    "total_sum = 0\n",
    "for number in (por1.index):\n",
    "    n = por1.loc[number,\"date_diff\"]//180\n",
    "    to_next_coupon = por1.loc[number,\"date_diff\"]%180\n",
    "    for each in range(n):\n",
    "        total_sum += por1.loc[number,\"Coupon\"]/2*pow((1+y),-(each + to_next_coupon/180))*number_invest\n",
    "    total_sum += (100+por1.loc[number,\"Coupon\"]/2)*pow((1+y),-(n+to_next_coupon/180))*number_invest\n",
    "    # using\n",
    "new_por1_price = total_sum \n",
    "print('new Por1 price is', new_por1_price)"
   ]
  },
  {
   "cell_type": "code",
   "execution_count": 37,
   "metadata": {},
   "outputs": [],
   "source": [
    "por1_PVBP = number_invest*por1[\"Ask Price\"].sum() - new_por1_price\n"
   ]
  },
  {
   "cell_type": "code",
   "execution_count": 38,
   "metadata": {},
   "outputs": [],
   "source": [
    "Por1_Appr_duration = por1_PVBP * (1+Por1_YTM) / new_por1_price * 10000\n"
   ]
  },
  {
   "cell_type": "code",
   "execution_count": 39,
   "metadata": {},
   "outputs": [],
   "source": [
    "Por1_portfolio_duration = sum(por1[\"Ask Price\"]*number_invest/fund * por1[\"Duration\"])\n"
   ]
  },
  {
   "cell_type": "code",
   "execution_count": 40,
   "metadata": {},
   "outputs": [],
   "source": [
    "Por1_Modified_duration = Por1_portfolio_duration / (1 + Por1_YTM)\n"
   ]
  },
  {
   "cell_type": "code",
   "execution_count": 41,
   "metadata": {},
   "outputs": [],
   "source": [
    "Por1_YTM_plus = Por1_YTM + 0.00005\n",
    "Por1_YTM_minus = Por1_YTM - 0.00005\n",
    "Por1_price_plus = 0\n",
    "Por1_price_minus = 0\n",
    "for number in (por1.index):\n",
    "    n = por1.loc[number,\"date_diff\"]//180\n",
    "    to_next_coupon = por1.loc[number,\"date_diff\"]%180\n",
    "    for each in range(n):\n",
    "        Por1_price_plus += por1.loc[number,\"Coupon\"]/2*pow((1+Por1_YTM_plus),-(each + to_next_coupon/180))*number_invest\n",
    "    Por1_price_plus += (100+por1.loc[number,\"Coupon\"]/2)*pow((1+Por1_YTM_plus),-(n+to_next_coupon/180))*number_invest\n",
    "Por1_price_plus += money_left    \n",
    "for number in (por1.index):\n",
    "    n = por1.loc[number,\"date_diff\"]//180\n",
    "    to_next_coupon = por1.loc[number,\"date_diff\"]%180\n",
    "    for each in range(n):\n",
    "        Por1_price_minus += por1.loc[number,\"Coupon\"]/2*pow((1+Por1_YTM_minus),-(each + to_next_coupon/180))*number_invest\n",
    "    Por1_price_minus += (100+por1.loc[number,\"Coupon\"]/2)*pow((1+Por1_YTM_minus),-(n+to_next_coupon/180))*number_invest\n",
    "Por1_price_minus += money_left\n"
   ]
  },
  {
   "cell_type": "code",
   "execution_count": 42,
   "metadata": {},
   "outputs": [],
   "source": [
    "Por1_Appr_convexity = sum(por1[\"Ask Price\"]/por1[\"Ask Price\"].sum() * por1[\"Convexity\"])\n"
   ]
  },
  {
   "cell_type": "code",
   "execution_count": 43,
   "metadata": {},
   "outputs": [],
   "source": [
    "y = Por1_YTM\n",
    "total_sum = 0\n",
    "for number in (por1.index):\n",
    "    n = por1.loc[number,\"date_diff\"]//180\n",
    "    to_next_coupon = por1.loc[number,\"date_diff\"]%180\n",
    "    for each in range(n):\n",
    "        total_sum += por1.loc[number,\"Coupon\"]/2*number_invest*math.pow((1+y),-(each + to_next_coupon/180))*((each + to_next_coupon/180)+math.pow((each + to_next_coupon/180),2))\n",
    "    total_sum += (100+por1.loc[number,\"Coupon\"]/2)*number_invest*math.pow((1+y),-(n + to_next_coupon/180))*((n + to_next_coupon/180)+math.pow((n + to_next_coupon/180),2))\n",
    "total_sum = total_sum * 1/(fund*(math.pow((1+y),2)))\n",
    "\n"
   ]
  },
  {
   "cell_type": "markdown",
   "metadata": {},
   "source": [
    "# Given current Macro economic conditions, you believe long term rates are going to decline in the next year. Find a portfolio(por1)(both $ exposure and number of bonds units) which is consistent with your discretionary views and your investment mandate. For por1 Calculate :"
   ]
  },
  {
   "cell_type": "markdown",
   "metadata": {},
   "source": [
    "Dollar Value of the portfolio & number of each bonds units in it"
   ]
  },
  {
   "cell_type": "markdown",
   "metadata": {},
   "source": [
    "Portfolio YTM"
   ]
  },
  {
   "cell_type": "markdown",
   "metadata": {},
   "source": [
    "Actual and Approximate Duration"
   ]
  },
  {
   "cell_type": "markdown",
   "metadata": {},
   "source": [
    "Actual Modified Duration"
   ]
  },
  {
   "cell_type": "markdown",
   "metadata": {},
   "source": [
    "Actual and Approximate Convexity"
   ]
  },
  {
   "cell_type": "code",
   "execution_count": 44,
   "metadata": {},
   "outputs": [
    {
     "name": "stdout",
     "output_type": "stream",
     "text": [
      "Dollar value of por1 portfolio is 211650.983875692\n",
      "number of por1 I will invest is 74801\n",
      "The money not used for investing is 932.576388880610\n",
      "Por1 annualized YTM is 0.0181203928642711\n",
      "Actual por1 portfolio duration is 21.3375873094553\n",
      "Approximate por1 portfolio duration is 21.4570315644216\n",
      "Actual por1 modified duration is 21.1460003921484\n",
      "Approximate Por1 portfolio convexity is 550.765036958363\n",
      "Actual annualized Por1 portfolio convexity is 549.672973503151\n"
     ]
    }
   ],
   "source": [
    "print(\"Dollar value of por1 portfolio is\",por1_PVBP)\n",
    "print(\"number of por1 I will invest is\",number_invest)\n",
    "print(\"The money not used for investing is\",money_left)\n",
    "print('Por1 annualized YTM is', 2*t)\n",
    "print(\"Actual por1 portfolio duration is\",Por1_portfolio_duration)\n",
    "print(\"Approximate por1 portfolio duration is\",Por1_Appr_duration)\n",
    "print(\"Actual por1 modified duration is\",Por1_Modified_duration)\n",
    "print(\"Approximate Por1 portfolio convexity is\",Por1_Appr_convexity)\n",
    "print(\"Actual annualized Por1 portfolio convexity is\",total_sum/4)"
   ]
  },
  {
   "cell_type": "code",
   "execution_count": 45,
   "metadata": {},
   "outputs": [],
   "source": [
    "m = sympy.symbols(\"m\")\n",
    "w1 = por1[\"Ask Price\"].sum()/(por1[\"Ask Price\"].sum()+m*Portfolio_price)\n",
    "w2 = 1-w1"
   ]
  },
  {
   "cell_type": "code",
   "execution_count": 46,
   "metadata": {},
   "outputs": [],
   "source": [
    "f = Por1_portfolio_duration * 0.5  - w1 * Por1_portfolio_duration - w2 * portfolio_duration\n",
    "t = 0.0001\n",
    "f1 = f.subs(m, t) # 表示t赋值给x\n",
    "while abs(f1) > 0.0001:  #我们设定的精度\n",
    "    #print(f1)\n",
    "    dify = diff(f, m) # f对x求导\n",
    "    dify = dify.subs(m, t)\n",
    "    t = t - f1/dify\n",
    "    f1 = f.subs(m, t)\n",
    "multiplier = t    \n"
   ]
  },
  {
   "cell_type": "code",
   "execution_count": 47,
   "metadata": {},
   "outputs": [],
   "source": [
    "# Por2 contains 1 unit of por1 and 0.13 unit of por0\n",
    "# So that the duration of por2 can be half the duration of por1"
   ]
  },
  {
   "cell_type": "code",
   "execution_count": 56,
   "metadata": {},
   "outputs": [],
   "source": [
    "number_por1 = math.floor(1/multiplier)\n",
    "test_bond['volume'] = 1\n",
    "por1[\"volume\"] = 8\n",
    "por2 = copy.deepcopy(test_bond)"
   ]
  },
  {
   "cell_type": "code",
   "execution_count": 57,
   "metadata": {},
   "outputs": [],
   "source": [
    "por1_price = por1[\"Ask Price\"].sum()\n",
    "por0_price = Portfolio_price\n",
    "por2_price = 8 * por1_price + por0_price\n",
    "\n",
    "por2_accrued_price = por2_price+np.nansum(por2[\"Coupon\"]/2*((180 - por2[\"date_diff\"]%180)/180))\n",
    "\n",
    "number_por2 = floor(fund / por2_accrued_price)\n"
   ]
  },
  {
   "cell_type": "code",
   "execution_count": 58,
   "metadata": {},
   "outputs": [],
   "source": [
    "for i in por2.index:\n",
    "    for j in por1.index:\n",
    "        if i == j:\n",
    "            por2.loc[i,\"volume\"] = por2.loc[i,\"volume\"] + por1.loc[j,\"volume\"]"
   ]
  },
  {
   "cell_type": "code",
   "execution_count": 59,
   "metadata": {},
   "outputs": [],
   "source": [
    "y = sympy.symbols(\"y\")\n",
    "total_sum = 0\n",
    "for number in (por2.index):\n",
    "    n = por2.loc[number,\"date_diff\"]//180\n",
    "    to_next_coupon = por2.loc[number,\"date_diff\"]%180\n",
    "    for each in range(n):\n",
    "        total_sum += por2.loc[number,\"Coupon\"]/2*pow((1+y),-(each + to_next_coupon/180))*number_por2*por2.loc[number,\"volume\"]\n",
    "    total_sum += (100+por2.loc[number,\"Coupon\"]/2)*pow((1+y),-(n+to_next_coupon/180))*number_por2*por2.loc[number,\"volume\"]\n",
    "    # using\n",
    "f = (por2_price*number_por2) - total_sum\n",
    "t = 0.0001\n",
    "f1 = f.subs(y, t) # 表示t赋值给x\n",
    "while abs(f1) > 0.0001:  #我们设定的精度\n",
    "    #print(f1)\n",
    "    dify = diff(f, y) # f对x求导\n",
    "    dify = dify.subs(y, t)\n",
    "    t = t - f1/dify\n",
    "    f1 = f.subs(y, t)\n",
    "Por2_YTM = t    \n"
   ]
  },
  {
   "cell_type": "code",
   "execution_count": 60,
   "metadata": {},
   "outputs": [],
   "source": [
    "por2_duration = sum(por2[\"Ask Price\"]*por2[\"volume\"]/por2_price * por2[\"Duration\"])\n"
   ]
  },
  {
   "cell_type": "code",
   "execution_count": 61,
   "metadata": {},
   "outputs": [],
   "source": [
    "por2_MD = por2_duration/(1+t)\n"
   ]
  },
  {
   "cell_type": "code",
   "execution_count": 62,
   "metadata": {},
   "outputs": [],
   "source": [
    "y = Por2_YTM\n",
    "total_sum = 0\n",
    "for number in (por2.index):\n",
    "    n = por2.loc[number,\"date_diff\"]//180\n",
    "    to_next_coupon = por2.loc[number,\"date_diff\"]%180\n",
    "    for each in range(n):\n",
    "        total_sum += por2.loc[number,\"Coupon\"]/2*number_por2*math.pow((1+y),-(each + to_next_coupon/180))*((each + to_next_coupon/180)+math.pow((each + to_next_coupon/180),2))\n",
    "    total_sum += (100+por2.loc[number,\"Coupon\"]/2)*number_por2*math.pow((1+y),-(n + to_next_coupon/180))*((n + to_next_coupon/180)+math.pow((n + to_next_coupon/180),2))\n",
    "total_sum = total_sum * 1/(fund*(math.pow((1+y),2)))\n",
    "\n"
   ]
  },
  {
   "cell_type": "markdown",
   "metadata": {},
   "source": [
    "# Assume you constructed por1, but you decided to reduce its duration by hedging the duration risk using por0, such that the duration of new portfolio (por2) is half the duration of por1."
   ]
  },
  {
   "cell_type": "markdown",
   "metadata": {},
   "source": [
    "Find the number of unit and dollar value of por0 that you need to trade to achieve your risk objective"
   ]
  },
  {
   "cell_type": "markdown",
   "metadata": {},
   "source": [
    "Find the overall composition of por2, its YTM, duration, modified duration and convexity"
   ]
  },
  {
   "cell_type": "code",
   "execution_count": 63,
   "metadata": {},
   "outputs": [
    {
     "name": "stdout",
     "output_type": "stream",
     "text": [
      "Multiplier of por0 is 0.130735763369009\n",
      "number of por1 is 7.64901641471616 Since number of portfolio should be interger, we take 7\n",
      "for each unit of por0, we should buy 7 units to keep por2 duration requirement\n",
      "por2 price is 40062.656251299995\n",
      "por2 accrued price is 40223.800348522214\n",
      "number of por2 is 2486\n"
     ]
    }
   ],
   "source": [
    "print('Multiplier of por0 is', multiplier)\n",
    "print(\"number of por1 is\",1/multiplier,\"Since number of portfolio should be interger, we take 7\")\n",
    "print(\"for each unit of por0, we should buy\",number_por1,\"units to keep por2 duration requirement\")\n",
    "print(\"por2 price is\",por2_price)\n",
    "print(\"por2 accrued price is\",por2_accrued_price)\n",
    "print(\"number of por2 is\",number_por2)"
   ]
  },
  {
   "cell_type": "code",
   "execution_count": 64,
   "metadata": {},
   "outputs": [
    {
     "data": {
      "text/html": [
       "<div>\n",
       "<style scoped>\n",
       "    .dataframe tbody tr th:only-of-type {\n",
       "        vertical-align: middle;\n",
       "    }\n",
       "\n",
       "    .dataframe tbody tr th {\n",
       "        vertical-align: top;\n",
       "    }\n",
       "\n",
       "    .dataframe thead th {\n",
       "        text-align: right;\n",
       "    }\n",
       "</style>\n",
       "<table border=\"1\" class=\"dataframe\">\n",
       "  <thead>\n",
       "    <tr style=\"text-align: right;\">\n",
       "      <th></th>\n",
       "      <th>Name</th>\n",
       "      <th>Ticker</th>\n",
       "      <th>Coupon</th>\n",
       "      <th>Maturity</th>\n",
       "      <th>Maturity Type</th>\n",
       "      <th>Country</th>\n",
       "      <th>Currency</th>\n",
       "      <th>Identifier</th>\n",
       "      <th>Bloomberg Composite Rating</th>\n",
       "      <th>Ask Price</th>\n",
       "      <th>Source</th>\n",
       "      <th>today</th>\n",
       "      <th>date_diff</th>\n",
       "      <th>half_YTM</th>\n",
       "      <th>YTM</th>\n",
       "      <th>Duration</th>\n",
       "      <th>MD</th>\n",
       "      <th>Convexity</th>\n",
       "      <th>volume</th>\n",
       "    </tr>\n",
       "  </thead>\n",
       "  <tbody>\n",
       "    <tr>\n",
       "      <th>54</th>\n",
       "      <td>United States Treasury Note/Bond</td>\n",
       "      <td>T</td>\n",
       "      <td>1.375</td>\n",
       "      <td>2022-01-31</td>\n",
       "      <td>NORMAL</td>\n",
       "      <td>US</td>\n",
       "      <td>USD</td>\n",
       "      <td>912828Z60</td>\n",
       "      <td>NR</td>\n",
       "      <td>101.289062</td>\n",
       "      <td>BGN</td>\n",
       "      <td>2021-01-29</td>\n",
       "      <td>367</td>\n",
       "      <td>0.00377549798887384</td>\n",
       "      <td>0.00755099597774768</td>\n",
       "      <td>0.995765063958243</td>\n",
       "      <td>0.992019695592610</td>\n",
       "      <td>1.520153</td>\n",
       "      <td>1</td>\n",
       "    </tr>\n",
       "    <tr>\n",
       "      <th>55</th>\n",
       "      <td>United States Treasury Note/Bond</td>\n",
       "      <td>T</td>\n",
       "      <td>1.500</td>\n",
       "      <td>2022-01-31</td>\n",
       "      <td>NORMAL</td>\n",
       "      <td>US</td>\n",
       "      <td>USD</td>\n",
       "      <td>912828H86</td>\n",
       "      <td>NR</td>\n",
       "      <td>101.417969</td>\n",
       "      <td>BGN</td>\n",
       "      <td>2021-01-29</td>\n",
       "      <td>367</td>\n",
       "      <td>0.00405942198222042</td>\n",
       "      <td>0.00811884396444085</td>\n",
       "      <td>0.994896495936066</td>\n",
       "      <td>0.990874119752728</td>\n",
       "      <td>1.517756</td>\n",
       "      <td>1</td>\n",
       "    </tr>\n",
       "    <tr>\n",
       "      <th>56</th>\n",
       "      <td>United States Treasury Note/Bond</td>\n",
       "      <td>T</td>\n",
       "      <td>1.875</td>\n",
       "      <td>2022-01-31</td>\n",
       "      <td>NORMAL</td>\n",
       "      <td>US</td>\n",
       "      <td>USD</td>\n",
       "      <td>912828V72</td>\n",
       "      <td>NR</td>\n",
       "      <td>101.785156</td>\n",
       "      <td>BGN</td>\n",
       "      <td>2021-01-29</td>\n",
       "      <td>367</td>\n",
       "      <td>0.00500530335001219</td>\n",
       "      <td>0.0100106067000244</td>\n",
       "      <td>0.992302989371156</td>\n",
       "      <td>0.987360948308915</td>\n",
       "      <td>1.510320</td>\n",
       "      <td>1</td>\n",
       "    </tr>\n",
       "    <tr>\n",
       "      <th>57</th>\n",
       "      <td>United States Treasury Note/Bond</td>\n",
       "      <td>T</td>\n",
       "      <td>2.000</td>\n",
       "      <td>2022-02-15</td>\n",
       "      <td>NORMAL</td>\n",
       "      <td>US</td>\n",
       "      <td>USD</td>\n",
       "      <td>912828SF8</td>\n",
       "      <td>NR</td>\n",
       "      <td>101.984375</td>\n",
       "      <td>BGN</td>\n",
       "      <td>2021-01-29</td>\n",
       "      <td>382</td>\n",
       "      <td>0.00474579551339724</td>\n",
       "      <td>0.00949159102679449</td>\n",
       "      <td>1.03337799934632</td>\n",
       "      <td>1.02849696307342</td>\n",
       "      <td>1.614901</td>\n",
       "      <td>1</td>\n",
       "    </tr>\n",
       "    <tr>\n",
       "      <th>58</th>\n",
       "      <td>United States Treasury Note/Bond</td>\n",
       "      <td>T</td>\n",
       "      <td>2.500</td>\n",
       "      <td>2022-02-15</td>\n",
       "      <td>NORMAL</td>\n",
       "      <td>US</td>\n",
       "      <td>USD</td>\n",
       "      <td>9128286C9</td>\n",
       "      <td>NR</td>\n",
       "      <td>102.503906</td>\n",
       "      <td>BGN</td>\n",
       "      <td>2021-01-29</td>\n",
       "      <td>382</td>\n",
       "      <td>0.00580961677281062</td>\n",
       "      <td>0.0116192335456212</td>\n",
       "      <td>1.03016984174303</td>\n",
       "      <td>1.02421951884730</td>\n",
       "      <td>1.605183</td>\n",
       "      <td>1</td>\n",
       "    </tr>\n",
       "    <tr>\n",
       "      <th>...</th>\n",
       "      <td>...</td>\n",
       "      <td>...</td>\n",
       "      <td>...</td>\n",
       "      <td>...</td>\n",
       "      <td>...</td>\n",
       "      <td>...</td>\n",
       "      <td>...</td>\n",
       "      <td>...</td>\n",
       "      <td>...</td>\n",
       "      <td>...</td>\n",
       "      <td>...</td>\n",
       "      <td>...</td>\n",
       "      <td>...</td>\n",
       "      <td>...</td>\n",
       "      <td>...</td>\n",
       "      <td>...</td>\n",
       "      <td>...</td>\n",
       "      <td>...</td>\n",
       "      <td>...</td>\n",
       "    </tr>\n",
       "    <tr>\n",
       "      <th>314</th>\n",
       "      <td>United States Treasury Note/Bond</td>\n",
       "      <td>T</td>\n",
       "      <td>2.375</td>\n",
       "      <td>2049-11-15</td>\n",
       "      <td>NORMAL</td>\n",
       "      <td>US</td>\n",
       "      <td>USD</td>\n",
       "      <td>912810SK5</td>\n",
       "      <td>NR</td>\n",
       "      <td>112.890625</td>\n",
       "      <td>BGN</td>\n",
       "      <td>2021-01-29</td>\n",
       "      <td>10517</td>\n",
       "      <td>0.00916606221887355</td>\n",
       "      <td>0.0183321244377471</td>\n",
       "      <td>21.5092167349888</td>\n",
       "      <td>21.3138526356070</td>\n",
       "      <td>564.525208</td>\n",
       "      <td>9</td>\n",
       "    </tr>\n",
       "    <tr>\n",
       "      <th>315</th>\n",
       "      <td>United States Treasury Note/Bond</td>\n",
       "      <td>T</td>\n",
       "      <td>2.000</td>\n",
       "      <td>2050-02-15</td>\n",
       "      <td>NORMAL</td>\n",
       "      <td>US</td>\n",
       "      <td>USD</td>\n",
       "      <td>912810SL3</td>\n",
       "      <td>NR</td>\n",
       "      <td>104.250000</td>\n",
       "      <td>BGN</td>\n",
       "      <td>2021-01-29</td>\n",
       "      <td>10609</td>\n",
       "      <td>0.00907904557557365</td>\n",
       "      <td>0.0181580911511473</td>\n",
       "      <td>22.5372380757951</td>\n",
       "      <td>22.3344624730959</td>\n",
       "      <td>602.130239</td>\n",
       "      <td>9</td>\n",
       "    </tr>\n",
       "    <tr>\n",
       "      <th>316</th>\n",
       "      <td>United States Treasury Note/Bond</td>\n",
       "      <td>T</td>\n",
       "      <td>1.250</td>\n",
       "      <td>2050-05-15</td>\n",
       "      <td>NORMAL</td>\n",
       "      <td>US</td>\n",
       "      <td>USD</td>\n",
       "      <td>912810SN9</td>\n",
       "      <td>NR</td>\n",
       "      <td>86.765625</td>\n",
       "      <td>BGN</td>\n",
       "      <td>2021-01-29</td>\n",
       "      <td>10698</td>\n",
       "      <td>0.00923068921338427</td>\n",
       "      <td>0.0184613784267685</td>\n",
       "      <td>24.1550127324112</td>\n",
       "      <td>23.9340846355337</td>\n",
       "      <td>675.163444</td>\n",
       "      <td>9</td>\n",
       "    </tr>\n",
       "    <tr>\n",
       "      <th>317</th>\n",
       "      <td>United States Treasury Note/Bond</td>\n",
       "      <td>T</td>\n",
       "      <td>1.375</td>\n",
       "      <td>2050-08-15</td>\n",
       "      <td>NORMAL</td>\n",
       "      <td>US</td>\n",
       "      <td>USD</td>\n",
       "      <td>912810SP4</td>\n",
       "      <td>NR</td>\n",
       "      <td>89.593750</td>\n",
       "      <td>BGN</td>\n",
       "      <td>2021-01-29</td>\n",
       "      <td>10790</td>\n",
       "      <td>0.00914613767301540</td>\n",
       "      <td>0.0182922753460308</td>\n",
       "      <td>24.1783524006396</td>\n",
       "      <td>23.9592180934194</td>\n",
       "      <td>674.694688</td>\n",
       "      <td>9</td>\n",
       "    </tr>\n",
       "    <tr>\n",
       "      <th>318</th>\n",
       "      <td>United States Treasury Note/Bond</td>\n",
       "      <td>T</td>\n",
       "      <td>1.625</td>\n",
       "      <td>2050-11-15</td>\n",
       "      <td>NORMAL</td>\n",
       "      <td>US</td>\n",
       "      <td>USD</td>\n",
       "      <td>912810SS8</td>\n",
       "      <td>NR</td>\n",
       "      <td>95.328125</td>\n",
       "      <td>BGN</td>\n",
       "      <td>2021-01-29</td>\n",
       "      <td>10882</td>\n",
       "      <td>0.00923248340768087</td>\n",
       "      <td>0.0184649668153617</td>\n",
       "      <td>23.5296455566811</td>\n",
       "      <td>23.3143957844411</td>\n",
       "      <td>655.918167</td>\n",
       "      <td>9</td>\n",
       "    </tr>\n",
       "  </tbody>\n",
       "</table>\n",
       "<p>265 rows × 19 columns</p>\n",
       "</div>"
      ],
      "text/plain": [
       "                                 Name Ticker  Coupon   Maturity Maturity Type  \\\n",
       "54   United States Treasury Note/Bond      T   1.375 2022-01-31        NORMAL   \n",
       "55   United States Treasury Note/Bond      T   1.500 2022-01-31        NORMAL   \n",
       "56   United States Treasury Note/Bond      T   1.875 2022-01-31        NORMAL   \n",
       "57   United States Treasury Note/Bond      T   2.000 2022-02-15        NORMAL   \n",
       "58   United States Treasury Note/Bond      T   2.500 2022-02-15        NORMAL   \n",
       "..                                ...    ...     ...        ...           ...   \n",
       "314  United States Treasury Note/Bond      T   2.375 2049-11-15        NORMAL   \n",
       "315  United States Treasury Note/Bond      T   2.000 2050-02-15        NORMAL   \n",
       "316  United States Treasury Note/Bond      T   1.250 2050-05-15        NORMAL   \n",
       "317  United States Treasury Note/Bond      T   1.375 2050-08-15        NORMAL   \n",
       "318  United States Treasury Note/Bond      T   1.625 2050-11-15        NORMAL   \n",
       "\n",
       "    Country Currency Identifier Bloomberg Composite Rating   Ask Price Source  \\\n",
       "54       US      USD  912828Z60                         NR  101.289062    BGN   \n",
       "55       US      USD  912828H86                         NR  101.417969    BGN   \n",
       "56       US      USD  912828V72                         NR  101.785156    BGN   \n",
       "57       US      USD  912828SF8                         NR  101.984375    BGN   \n",
       "58       US      USD  9128286C9                         NR  102.503906    BGN   \n",
       "..      ...      ...        ...                        ...         ...    ...   \n",
       "314      US      USD  912810SK5                         NR  112.890625    BGN   \n",
       "315      US      USD  912810SL3                         NR  104.250000    BGN   \n",
       "316      US      USD  912810SN9                         NR   86.765625    BGN   \n",
       "317      US      USD  912810SP4                         NR   89.593750    BGN   \n",
       "318      US      USD  912810SS8                         NR   95.328125    BGN   \n",
       "\n",
       "         today  date_diff             half_YTM                  YTM  \\\n",
       "54  2021-01-29        367  0.00377549798887384  0.00755099597774768   \n",
       "55  2021-01-29        367  0.00405942198222042  0.00811884396444085   \n",
       "56  2021-01-29        367  0.00500530335001219   0.0100106067000244   \n",
       "57  2021-01-29        382  0.00474579551339724  0.00949159102679449   \n",
       "58  2021-01-29        382  0.00580961677281062   0.0116192335456212   \n",
       "..         ...        ...                  ...                  ...   \n",
       "314 2021-01-29      10517  0.00916606221887355   0.0183321244377471   \n",
       "315 2021-01-29      10609  0.00907904557557365   0.0181580911511473   \n",
       "316 2021-01-29      10698  0.00923068921338427   0.0184613784267685   \n",
       "317 2021-01-29      10790  0.00914613767301540   0.0182922753460308   \n",
       "318 2021-01-29      10882  0.00923248340768087   0.0184649668153617   \n",
       "\n",
       "              Duration                 MD   Convexity  volume  \n",
       "54   0.995765063958243  0.992019695592610    1.520153       1  \n",
       "55   0.994896495936066  0.990874119752728    1.517756       1  \n",
       "56   0.992302989371156  0.987360948308915    1.510320       1  \n",
       "57    1.03337799934632   1.02849696307342    1.614901       1  \n",
       "58    1.03016984174303   1.02421951884730    1.605183       1  \n",
       "..                 ...                ...         ...     ...  \n",
       "314   21.5092167349888   21.3138526356070  564.525208       9  \n",
       "315   22.5372380757951   22.3344624730959  602.130239       9  \n",
       "316   24.1550127324112   23.9340846355337  675.163444       9  \n",
       "317   24.1783524006396   23.9592180934194  674.694688       9  \n",
       "318   23.5296455566811   23.3143957844411  655.918167       9  \n",
       "\n",
       "[265 rows x 19 columns]"
      ]
     },
     "execution_count": 64,
     "metadata": {},
     "output_type": "execute_result"
    }
   ],
   "source": [
    "por2"
   ]
  },
  {
   "cell_type": "code",
   "execution_count": 65,
   "metadata": {},
   "outputs": [
    {
     "name": "stdout",
     "output_type": "stream",
     "text": [
      "Por2 annualized YTM is 0.0156509687111955\n",
      "por2 duration is 10.8079671967468\n",
      "por2 modified duration is 10.7240463398853\n",
      "Actual annualized Por2 portfolio convexity is 78.7791260523843\n"
     ]
    }
   ],
   "source": [
    "print('Por2 annualized YTM is', 2*t)\n",
    "print(\"por2 duration is\",por2_duration)\n",
    "print(\"por2 modified duration is\",por2_MD)\n",
    "print(\"Actual annualized Por2 portfolio convexity is\",total_sum/4)"
   ]
  },
  {
   "cell_type": "code",
   "execution_count": null,
   "metadata": {},
   "outputs": [],
   "source": []
  },
  {
   "cell_type": "code",
   "execution_count": null,
   "metadata": {},
   "outputs": [],
   "source": []
  }
 ],
 "metadata": {
  "kernelspec": {
   "display_name": "Python 3",
   "language": "python",
   "name": "python3"
  },
  "language_info": {
   "codemirror_mode": {
    "name": "ipython",
    "version": 3
   },
   "file_extension": ".py",
   "mimetype": "text/x-python",
   "name": "python",
   "nbconvert_exporter": "python",
   "pygments_lexer": "ipython3",
   "version": "3.7.7"
  },
  "toc": {
   "base_numbering": 1,
   "nav_menu": {},
   "number_sections": true,
   "sideBar": true,
   "skip_h1_title": false,
   "title_cell": "Table of Contents",
   "title_sidebar": "Contents",
   "toc_cell": false,
   "toc_position": {},
   "toc_section_display": true,
   "toc_window_display": false
  }
 },
 "nbformat": 4,
 "nbformat_minor": 4
}
